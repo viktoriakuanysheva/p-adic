{
  "cells": [
    {
      "metadata": {
        "trusted": true
      },
      "cell_type": "code",
      "source": "import matplotlib.pyplot as plt\nimport numpy as np\n\nclass BetaProjection:\n    def __init__(self, p, n):\n        self.mod = p ** n\n        self.p = p\n        self.n = n\n        self.f = None\n\n    def calculate(self, p):\n        x = np.arange(2 ** self.n, dtype=np.uint32)\n        y = np.vectorize(self.process)(x)\n        return self.beta_projection_point(p,x), self.beta_projection_point(p,y)\n\n    def calculate_and_draw(self, p):\n        x,y = self.calculate(p)\n        plt.plot(x,y,marker='o',color='b',linestyle='',markersize=0.1)\n    \n    def beta_projection_point(self,p,arg):\n        p_real = p ** np.arange(self.n - 1, -1, -1)\n        mask = 1 << np.arange(self.n - 1, -1, -1)\n        bin = ((arg[:, None] & mask) > 0).astype(int).dot(p_real) / p ** self.n\n        return bin - np.trunc(bin)\n\n    def process(self, x):\n        mod = self.mod\n        \n        stack1 = (1 ^ x) % mod\n        \n        stack2 = x\n        stack2 = ((1 + ((2 * x) % mod)) % mod) & stack2\n        stack2 = ((3 + ((4 * x) % mod)) % mod) & stack2\n        stack2 = ((7 + ((8 * x) % mod)) % mod) & stack2\n        stack2 = ((15 + ((16 * x) % mod)) % mod) & stack2\n        stack2 = ((31 + ((32 * x) % mod)) % mod) & stack2\n        stack2 = ((63 + ((64 * x) % mod)) % mod) & stack2\n        stack2 = (2 * stack2) % mod\n\n        stack3 = (x ** 2) % mod\n        stack3 = (9 + stack3) % mod\n        stack3 = (4 * stack3 ) % mod\n\n        stack4 = (stack1 ^ stack2) % mod\n        stack4 = (stack4 ^ stack3) % mod\n        \n        return stack4\n    \n#k = 16\n#p = 2 ** (1/100)   \n#BetaProjection(2, k).calculate_and_draw(p)",
      "execution_count": 24,
      "outputs": []
    }
  ],
  "metadata": {
    "kernelspec": {
      "name": "python3",
      "display_name": "Python 3",
      "language": "python"
    },
    "language_info": {
      "name": "python",
      "version": "3.7.8",
      "mimetype": "text/x-python",
      "codemirror_mode": {
        "name": "ipython",
        "version": 3
      },
      "pygments_lexer": "ipython3",
      "nbconvert_exporter": "python",
      "file_extension": ".py"
    }
  },
  "nbformat": 4,
  "nbformat_minor": 4
}
