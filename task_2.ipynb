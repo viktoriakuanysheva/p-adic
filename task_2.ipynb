{
  "cells": [
    {
      "metadata": {
        "trusted": true
      },
      "cell_type": "code",
      "source": "import matplotlib.pyplot as plt\nimport numpy as np\n\nclass Projection:\n    def __init__(self, p, n):\n        self.mod = p ** n\n        self.p = p\n        self.n = n\n        self.f = None\n\n    def calculate_and_draw(self):\n        x,y = self.get_p_adic()\n        plt.plot(x,y,marker='o',color='b',linestyle='',markersize=0.1)\n\n    def get_p_adic(self):\n        x = np.arange(self.p ** self.n)\n        y = np.vectorize(self.process)(x)\n        x = (x % self.mod) / self.mod\n        y = (y % self.mod) / self.mod\n        return x, y\n\n    def process(self, x):\n        mod = self.mod\n        \n        stack1 = (1 ^ x) % mod\n        \n        stack2 = x\n        stack2 = ((1 + ((2 * x) % mod)) % mod) & stack2\n        stack2 = ((3 + ((4 * x) % mod)) % mod) & stack2\n        stack2 = ((7 + ((8 * x) % mod)) % mod) & stack2\n        stack2 = ((15 + ((16 * x) % mod)) % mod) & stack2\n        stack2 = ((31 + ((32 * x) % mod)) % mod) & stack2\n        stack2 = ((63 + ((64 * x) % mod)) % mod) & stack2\n        stack2 = (2 * stack2) % mod\n\n        stack3 = (x ** 2) % mod\n        stack3 = (9 + stack3) % mod\n        stack3 = (4 * stack3 ) % mod\n\n        stack4 = (stack1 ^ stack2) % mod\n        stack4 = (stack4 ^ stack3) % mod\n        \n        return stack4\n    \n#Projection(2, 16).calculate_and_draw()",
      "execution_count": 22,
      "outputs": []
    }
  ],
  "metadata": {
    "kernelspec": {
      "name": "python3",
      "display_name": "Python 3",
      "language": "python"
    },
    "language_info": {
      "name": "python",
      "version": "3.7.8",
      "mimetype": "text/x-python",
      "codemirror_mode": {
        "name": "ipython",
        "version": 3
      },
      "pygments_lexer": "ipython3",
      "nbconvert_exporter": "python",
      "file_extension": ".py"
    }
  },
  "nbformat": 4,
  "nbformat_minor": 4
}
