{
  "cells": [
    {
      "metadata": {
        "trusted": true
      },
      "cell_type": "code",
      "source": "class PNumber():\n    def __init__(self, num, mod):\n        self.num = int(num)\n        self.mod = mod\n\n    # проверка второго числа в операции\n    def cast_to_p_adic(self, other):\n        return other if isinstance(other, PNumber) else PNumber(other, self.mod)\n\n    # осуществляем перегрузку операторов\n    def __add__(self, other):\n        other = self.cast_to_p_adic(other)\n        return PNumber((self.num + other.num) % self.mod, self.mod)\n\n    def __mul__(self, other):\n        other = self.cast_to_p_adic(other)\n        return PNumber((self.num * other.num) % self.mod, self.mod)\n\n    def __neg__(self):\n        return PNumber((self.mod - self.num) % self.mod, self.mod)\n\n    def __sub__(self, other):\n        other = self.cast_to_p_adic(other)\n        return PNumber((self.num + (-other).num) % self.mod, self.mod)\n\n    def __truediv__(self, other):\n        other = self.cast_to_p_adic(other)\n        return self * other ** (self.mod - 1)\n\n    def __and__(self, other):\n        other = self.cast_to_p_adic(other)\n        return PNumber(self.num & other.num, self.mod)\n\n    def __or__(self, other):\n        other = self.cast_to_p_adic(other)\n        return PNumber(self.num | other.num, self.mod)\n\n    def __xor__(self, other):\n        other = self.cast_to_p_adic(other)\n        return PNumber(self.num ^ other.num, self.mod)\n\n    def __invert__(self):\n        return PNumber(~self.num, self.mod)\n\n    def __pow__(self, power, modulo=None):\n        power = self.cast_to_p_adic(power)\n        return PNumber(pow(self.num, power.num) % self.mod, self.mod)\n\n    def __str__(self):\n        return str(self.num)\n\n    def get_num(self):\n        return self.num\n\ndef lpad(w: str, initial_hash_length: int):\n    return  w if len(w) % initial_hash_length == 0 else w.zfill(len(w) + initial_hash_length - len(w) % initial_hash_length)\n            \ndef get_hash(message: str, initial_hash: str):\n    initial_hash_length = len(initial_hash)\n    mod = 2 ** initial_hash_length\n    \n    hash_item = PNumber(int(initial_hash, 2), mod)\n    for i in range(len(message), 0, -initial_hash_length):\n        item = message[i - initial_hash_length: i]\n        hash_item = hash_function(PNumber(int(item, 2), mod), hash_item)\n    return str(bin(hash_item.get_num())[2:]).zfill(initial_hash_length)\n\ndef calculate_hash(message: str, initial_hash: str) -> str:\n    initial_hash_length = len(initial_hash)\n    message = lpad(message, initial_hash_length)\n    return get_hash(message, initial_hash)\n\ndef hash_function(x: PNumber, y: PNumber) -> PNumber:\n    return (x ** 3 & (x+1) + x ** 2) ^ (y ** 2 ^ (x | 43)) + 113 & (x ** 3) + 37\n\n\n#calculate_hash('1101101', '1101101')\n",
      "execution_count": 41,
      "outputs": []
    }
  ],
  "metadata": {
    "kernelspec": {
      "name": "python3",
      "display_name": "Python 3",
      "language": "python"
    },
    "language_info": {
      "name": "python",
      "version": "3.7.8",
      "mimetype": "text/x-python",
      "codemirror_mode": {
        "name": "ipython",
        "version": 3
      },
      "pygments_lexer": "ipython3",
      "nbconvert_exporter": "python",
      "file_extension": ".py"
    }
  },
  "nbformat": 4,
  "nbformat_minor": 4
}
