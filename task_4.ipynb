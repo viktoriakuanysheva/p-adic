{
  "cells": [
    {
      "metadata": {
        "trusted": true
      },
      "cell_type": "code",
      "source": "from itertools import chain\nimport sys\n\ndef kakutani_corput_seq(n: int):\n    seq = []\n    item = 0\n    for i in range(n):\n        seq.append(item)\n        k = 0\n        while not ((1 - 1 / (2 ** k)) <= item < (1 - 1 / (2 ** (k + 1)))):\n            k += 1\n        item = item - 1 + 1 / (2 ** k) + 1 / (2 ** (k + 1))\n    return seq[::-1]\n\n\ndef monn_corput(n: int):\n    result = []\n    base =2\n    for i in (range(n)[::-1]):\n        q = 0\n        b_k = 1 / base\n        item = i\n        while item > 0:\n            q += (item % base) * b_k\n            item //= base\n            b_k /= base\n        result.append(q)\n    return result\n\n\ndef monn_corput_z_2(n: int, base: int=2):\n    result = []\n    base =2\n    for i in (range(n)[::-1]):\n        item = i\n        while item > 0:\n            result.append(item % base)\n            item //= base\n        if(i==0):\n            result.append(0)\n        \n    return result\n\n# if __name__ == '__main__':\n#     n = 10\n#     seq_kakutani = kakutani_corput_seq(n)\n#     seq_monn_corput = monn_corput(n)\n#     seq_monn_corput_z_2 = monn_corput_z_2(n)\n    \n#     print(\"последовательность ван дер Корпута с помощью отображения Какутани-фон Неймана:\")\n#     print(seq_kakutani)\n#     print(\"\\nотображение Какутани-фон Неймана с помощью отображения Монна:\")\n#     print(seq_monn_corput)\n#     print(\"\\nотображение на Z2, индуцированное отображением Какутани-фон Неймана с помощью отображения Монна:\")\n#     print(seq_monn_corput_z_2)",
      "execution_count": 41,
      "outputs": []
    }
  ],
  "metadata": {
    "kernelspec": {
      "name": "python3",
      "display_name": "Python 3",
      "language": "python"
    },
    "language_info": {
      "name": "python",
      "version": "3.7.8",
      "mimetype": "text/x-python",
      "codemirror_mode": {
        "name": "ipython",
        "version": 3
      },
      "pygments_lexer": "ipython3",
      "nbconvert_exporter": "python",
      "file_extension": ".py"
    }
  },
  "nbformat": 4,
  "nbformat_minor": 4
}
